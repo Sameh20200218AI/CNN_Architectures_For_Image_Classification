{
  "nbformat": 4,
  "nbformat_minor": 0,
  "metadata": {
    "colab": {
      "provenance": [],
      "gpuType": "T4"
    },
    "kernelspec": {
      "name": "python3",
      "display_name": "Python 3"
    },
    "language_info": {
      "name": "python"
    },
    "accelerator": "GPU"
  },
  "cells": [
    {
      "cell_type": "code",
      "source": [
        "import numpy as np\n",
        "import pandas as pd\n",
        "import matplotlib.pyplot as plt\n",
        "from tensorflow import keras\n",
        "import tensorflow as tf\n",
        "from keras.models import Sequential\n",
        "from keras.layers import Conv2D, MaxPooling2D, Flatten, Dense\n",
        "from sklearn.metrics import confusion_matrix, f1_score, recall_score, precision_score, classification_report\n",
        "import seaborn as sns\n",
        "from tensorflow.keras import layers, models\n",
        "from tensorflow.keras.utils import to_categorical\n",
        "from tensorflow.keras.datasets import fashion_mnist  # Import Fashion MNIST dataset"
      ],
      "metadata": {
        "id": "bt02XLBFXkDp"
      },
      "execution_count": 30,
      "outputs": []
    },
    {
      "cell_type": "code",
      "source": [
        "# Load Fashion MNIST dataset\n",
        "(x_train, y_train), (x_test, y_test) = fashion_mnist.load_data()\n",
        "\n",
        "# Preprocess the data\n",
        "x_train = x_train.reshape((-1, 28, 28, 1)) / 255.0  # Reshape and normalize training images\n",
        "x_test = x_test.reshape((-1, 28, 28, 1)) / 255.0    # Reshape and normalize test images\n",
        "y_train = to_categorical(y_train, num_classes=10)  # Convert training labels to one-hot encoded vectors\n",
        "y_test = to_categorical(y_test, num_classes=10)    # Convert test labels to one-hot encoded vectors"
      ],
      "metadata": {
        "id": "RciUt0ahXkAG"
      },
      "execution_count": 31,
      "outputs": []
    },
    {
      "cell_type": "code",
      "source": [
        "# Visualize sample images from the dataset\n",
        "fig, axes = plt.subplots(2, 5, figsize=(10, 5))\n",
        "axes = axes.ravel()\n",
        "for i in range(10):\n",
        "    axes[i].imshow(x_train[i].reshape(28, 28), cmap='gray')\n",
        "    axes[i].set_title(f\"Label: {np.argmax(y_train[i])}\")\n",
        "    axes[i].axis('off')\n",
        "plt.tight_layout()\n",
        "plt.show()"
      ],
      "metadata": {
        "colab": {
          "base_uri": "https://localhost:8080/",
          "height": 473
        },
        "id": "kuf-PzHGXj9h",
        "outputId": "48bc3058-0368-4832-91bc-726a836a7965"
      },
      "execution_count": 32,
      "outputs": [
        {
          "output_type": "display_data",
          "data": {
            "text/plain": [
              "<Figure size 1000x500 with 10 Axes>"
            ],
            "image/png": "[encoded data removed]"
          },
          "metadata": {}
        }
      ]
    },
    {
      "cell_type": "code",
      "source": [
        "\n",
        "# Build a simplified VGG16 model\n",
        "model = Sequential()\n",
        "\n",
        "# Convolutional layers\n",
        "model.add(Conv2D(64, (3, 3), activation='relu', input_shape=(28, 28, 1)))\n",
        "model.add(Conv2D(64, (3, 3), activation='relu'))\n",
        "model.add(MaxPooling2D((2, 2)))\n",
        "\n",
        "model.add(Conv2D(128, (3, 3), activation='relu'))\n",
        "model.add(Conv2D(128, (3, 3), activation='relu'))\n",
        "model.add(MaxPooling2D((2, 2)))\n",
        "\n",
        "# Flatten layer to transition from convolutional to dense layers\n",
        "model.add(Flatten())\n",
        "\n",
        "# Dense layers\n",
        "model.add(Dense(20, activation='relu'))\n",
        "model.add(Dense(10, activation='softmax'))  # Output layer with 10 classes for Fashion MNIST"
      ],
      "metadata": {
        "id": "x2uPpx9vXj6t"
      },
      "execution_count": 33,
      "outputs": []
    },
    {
      "cell_type": "code",
      "source": [
        "model.summary()  # Print the architecture of the model"
      ],
      "metadata": {
        "colab": {
          "base_uri": "https://localhost:8080/"
        },
        "id": "RPYtmKEMXj4B",
        "outputId": "8c709a01-354f-4115-e465-97df871866f2"
      },
      "execution_count": 34,
      "outputs": [
        {
          "output_type": "stream",
          "name": "stdout",
          "text": [
            "Model: \"sequential_4\"\n",
            "_________________________________________________________________\n",
            " Layer (type)                Output Shape              Param #   \n",
            "=================================================================\n",
            " conv2d_16 (Conv2D)          (None, 26, 26, 64)        640       \n",
            "                                                                 \n",
            " conv2d_17 (Conv2D)          (None, 24, 24, 64)        36928     \n",
            "                                                                 \n",
            " max_pooling2d_8 (MaxPoolin  (None, 12, 12, 64)        0         \n",
            " g2D)                                                            \n",
            "                                                                 \n",
            " conv2d_18 (Conv2D)          (None, 10, 10, 128)       73856     \n",
            "                                                                 \n",
            " conv2d_19 (Conv2D)          (None, 8, 8, 128)         147584    \n",
            "                                                                 \n",
            " max_pooling2d_9 (MaxPoolin  (None, 4, 4, 128)         0         \n",
            " g2D)                                                            \n",
            "                                                                 \n",
            " flatten_4 (Flatten)         (None, 2048)              0         \n",
            "                                                                 \n",
            " dense_8 (Dense)             (None, 20)                40980     \n",
            "                                                                 \n",
            " dense_9 (Dense)             (None, 10)                210       \n",
            "                                                                 \n",
            "=================================================================\n",
            "Total params: 300198 (1.15 MB)\n",
            "Trainable params: 300198 (1.15 MB)\n",
            "Non-trainable params: 0 (0.00 Byte)\n",
            "_________________________________________________________________\n"
          ]
        }
      ]
    },
    {
      "cell_type": "code",
      "source": [
        "# Print trainable parameters of the model\n",
        "for layer in model.layers:\n",
        "    print(f\"Layer {layer.name} : {layer.count_params()} trainable parameters\")\n",
        "    print('----------------------------------------------')"
      ],
      "metadata": {
        "colab": {
          "base_uri": "https://localhost:8080/"
        },
        "id": "Hre-Lm8qXj09",
        "outputId": "6d840f4c-e332-49c6-ce49-81829eabee84"
      },
      "execution_count": 35,
      "outputs": [
        {
          "output_type": "stream",
          "name": "stdout",
          "text": [
            "Layer conv2d_16 : 640 trainable parameters\n",
            "----------------------------------------------\n",
            "Layer conv2d_17 : 36928 trainable parameters\n",
            "----------------------------------------------\n",
            "Layer max_pooling2d_8 : 0 trainable parameters\n",
            "----------------------------------------------\n",
            "Layer conv2d_18 : 73856 trainable parameters\n",
            "----------------------------------------------\n",
            "Layer conv2d_19 : 147584 trainable parameters\n",
            "----------------------------------------------\n",
            "Layer max_pooling2d_9 : 0 trainable parameters\n",
            "----------------------------------------------\n",
            "Layer flatten_4 : 0 trainable parameters\n",
            "----------------------------------------------\n",
            "Layer dense_8 : 40980 trainable parameters\n",
            "----------------------------------------------\n",
            "Layer dense_9 : 210 trainable parameters\n",
            "----------------------------------------------\n"
          ]
        }
      ]
    },
    {
      "cell_type": "code",
      "source": [
        "# Compile the model\n",
        "model.compile(optimizer='adam', loss='categorical_crossentropy', metrics=['accuracy'])"
      ],
      "metadata": {
        "id": "ztieOQXfYiVD"
      },
      "execution_count": 36,
      "outputs": []
    },
    {
      "cell_type": "code",
      "source": [
        "# Train the model\n",
        "model.fit(x_train, y_train, batch_size=600, epochs=10, validation_data=(x_test, y_test))  # Increase the number of epochs"
      ],
      "metadata": {
        "colab": {
          "base_uri": "https://localhost:8080/"
        },
        "id": "HdifroOLXjyH",
        "outputId": "4bb538b2-7d76-4228-86f7-ca86075891d2"
      },
      "execution_count": 37,
      "outputs": [
        {
          "output_type": "stream",
          "name": "stdout",
          "text": [
            "Epoch 1/10\n",
            "100/100 [==============================] - 7s 47ms/step - loss: 0.8283 - accuracy: 0.7019 - val_loss: 0.5079 - val_accuracy: 0.8062\n",
            "Epoch 2/10\n",
            "100/100 [==============================] - 4s 44ms/step - loss: 0.4350 - accuracy: 0.8406 - val_loss: 0.4181 - val_accuracy: 0.8496\n",
            "Epoch 3/10\n",
            "100/100 [==============================] - 5s 45ms/step - loss: 0.3637 - accuracy: 0.8683 - val_loss: 0.3443 - val_accuracy: 0.8777\n",
            "Epoch 4/10\n",
            "100/100 [==============================] - 5s 46ms/step - loss: 0.3170 - accuracy: 0.8853 - val_loss: 0.3231 - val_accuracy: 0.8851\n",
            "Epoch 5/10\n",
            "100/100 [==============================] - 4s 44ms/step - loss: 0.2844 - accuracy: 0.8974 - val_loss: 0.3115 - val_accuracy: 0.8872\n",
            "Epoch 6/10\n",
            "100/100 [==============================] - 5s 45ms/step - loss: 0.2646 - accuracy: 0.9039 - val_loss: 0.2919 - val_accuracy: 0.8974\n",
            "Epoch 7/10\n",
            "100/100 [==============================] - 5s 45ms/step - loss: 0.2391 - accuracy: 0.9131 - val_loss: 0.2787 - val_accuracy: 0.9014\n",
            "Epoch 8/10\n",
            "100/100 [==============================] - 5s 46ms/step - loss: 0.2241 - accuracy: 0.9182 - val_loss: 0.2769 - val_accuracy: 0.8996\n",
            "Epoch 9/10\n",
            "100/100 [==============================] - 5s 47ms/step - loss: 0.2082 - accuracy: 0.9251 - val_loss: 0.2550 - val_accuracy: 0.9101\n",
            "Epoch 10/10\n",
            "100/100 [==============================] - 5s 46ms/step - loss: 0.1937 - accuracy: 0.9297 - val_loss: 0.2534 - val_accuracy: 0.9132\n"
          ]
        },
        {
          "output_type": "execute_result",
          "data": {
            "text/plain": [
              "<keras.src.callbacks.History at 0x79e06a0ce6e0>"
            ]
          },
          "metadata": {},
          "execution_count": 37
        }
      ]
    },
    {
      "cell_type": "code",
      "source": [
        "# Predictions on the test set\n",
        "y_pred = model.predict(x_test)"
      ],
      "metadata": {
        "colab": {
          "base_uri": "https://localhost:8080/"
        },
        "id": "PGLg6AiSXjvT",
        "outputId": "3861a8b8-aa47-437a-ebcc-dfe0955aff61"
      },
      "execution_count": 38,
      "outputs": [
        {
          "output_type": "stream",
          "name": "stdout",
          "text": [
            "313/313 [==============================] - 1s 4ms/step\n"
          ]
        }
      ]
    },
    {
      "cell_type": "code",
      "source": [
        "# Evaluate the model\n",
        "loss, accuracy = model.evaluate(x_test, y_test)\n",
        "print(f'Test Loss: {loss:.4f}')\n",
        "print(f'Test Accuracy: {accuracy:.4f}')"
      ],
      "metadata": {
        "colab": {
          "base_uri": "https://localhost:8080/"
        },
        "id": "ahOmk3F6Xjsu",
        "outputId": "1bf0f727-de31-4f14-8756-f2357f035fcd"
      },
      "execution_count": 39,
      "outputs": [
        {
          "output_type": "stream",
          "name": "stdout",
          "text": [
            "313/313 [==============================] - 1s 4ms/step - loss: 0.2534 - accuracy: 0.9132\n",
            "Test Loss: 0.2534\n",
            "Test Accuracy: 0.9132\n"
          ]
        }
      ]
    },
    {
      "cell_type": "code",
      "source": [
        "# Convert from One Hot Encoding to int values that represent int labels\n",
        "num_of_classes = y_test.shape[1]\n",
        "print('Number of classes: ', num_of_classes)\n",
        "true_labels = np.argmax(y_test, axis=1)\n",
        "print(true_labels[:30])\n",
        "\n",
        "pred_labels = np.argmax(y_pred, axis=1)\n",
        "print(pred_labels[:30])"
      ],
      "metadata": {
        "colab": {
          "base_uri": "https://localhost:8080/"
        },
        "id": "UcLyIoKvXjpy",
        "outputId": "4f647333-38b5-4ac9-cb98-9ae77e3fca7e"
      },
      "execution_count": 40,
      "outputs": [
        {
          "output_type": "stream",
          "name": "stdout",
          "text": [
            "Number of classes:  10\n",
            "[9 2 1 1 6 1 4 6 5 7 4 5 7 3 4 1 2 4 8 0 2 5 7 9 1 4 6 0 9 3]\n",
            "[9 2 1 1 6 1 4 6 5 7 4 5 5 3 4 1 2 4 8 0 2 5 7 5 1 6 6 0 9 4]\n"
          ]
        }
      ]
    },
    {
      "cell_type": "code",
      "source": [
        "# Calculate precision, recall, and F1-score\n",
        "precision = precision_score(true_labels, pred_labels, average='macro')\n",
        "recall = recall_score(true_labels, pred_labels, average='macro')\n",
        "f1 = f1_score(true_labels, pred_labels, average='macro')\n",
        "\n",
        "print('Precision Score:', precision)\n",
        "print('Recall Score:', recall)\n",
        "print('F1 Score:', f1)"
      ],
      "metadata": {
        "colab": {
          "base_uri": "https://localhost:8080/"
        },
        "id": "YRic1GVWXjnN",
        "outputId": "42eda0eb-33e8-44d7-8ca1-39b5500a18ab"
      },
      "execution_count": 41,
      "outputs": [
        {
          "output_type": "stream",
          "name": "stdout",
          "text": [
            "Precision Score: 0.9150450746971274\n",
            "Recall Score: 0.9132\n",
            "F1 Score: 0.9137396405231911\n"
          ]
        }
      ]
    },
    {
      "cell_type": "code",
      "source": [
        "# Confusion Matrix\n",
        "cm = confusion_matrix(true_labels, pred_labels)\n",
        "print('Confusion Matrix:')\n",
        "print(cm)\n",
        "\n",
        "# Plot the Confusion Matrix\n",
        "sns.heatmap(cm, center=True, annot=True, fmt=\"d\", cmap=\"Blues\")"
      ],
      "metadata": {
        "colab": {
          "base_uri": "https://localhost:8080/",
          "height": 638
        },
        "id": "sNdp3f8nXjkk",
        "outputId": "693fd75a-66e5-4687-c1ae-5bcc0839106a"
      },
      "execution_count": 42,
      "outputs": [
        {
          "output_type": "stream",
          "name": "stdout",
          "text": [
            "Confusion Matrix:\n",
            "[[857   0  26  12   2   1  94   0   8   0]\n",
            " [  2 980   1  11   2   0   2   0   2   0]\n",
            " [  8   0 899   4  36   0  53   0   0   0]\n",
            " [ 12   1  29 869  48   0  40   0   1   0]\n",
            " [  0   1  48   5 868   0  78   0   0   0]\n",
            " [  0   0   0   0   0 993   0   3   0   4]\n",
            " [ 99   1  52  12  55   0 780   0   1   0]\n",
            " [  0   0   0   0   0  24   0 938   0  38]\n",
            " [  1   1   7   4   5   1   4   0 975   2]\n",
            " [  0   0   0   0   0   7   0  20   0 973]]\n"
          ]
        },
        {
          "output_type": "execute_result",
          "data": {
            "text/plain": [
              "<Axes: >"
            ]
          },
          "metadata": {},
          "execution_count": 42
        },
        {
          "output_type": "display_data",
          "data": {
            "text/plain": [
              "<Figure size 640x480 with 2 Axes>"
            ],
            "image/png": "[encoded data removed]"
          },
          "metadata": {}
        }
      ]
    },
    {
      "cell_type": "code",
      "source": [
        "# Classification Report\n",
        "repo = classification_report(true_labels, pred_labels)\n",
        "print('Classification Report:')\n",
        "print(repo)"
      ],
      "metadata": {
        "colab": {
          "base_uri": "https://localhost:8080/"
        },
        "id": "73TCxdMBXjhs",
        "outputId": "a4ab62e9-5a2d-404a-8daf-350b9791aaef"
      },
      "execution_count": 43,
      "outputs": [
        {
          "output_type": "stream",
          "name": "stdout",
          "text": [
            "Classification Report:\n",
            "              precision    recall  f1-score   support\n",
            "\n",
            "           0       0.88      0.86      0.87      1000\n",
            "           1       1.00      0.98      0.99      1000\n",
            "           2       0.85      0.90      0.87      1000\n",
            "           3       0.95      0.87      0.91      1000\n",
            "           4       0.85      0.87      0.86      1000\n",
            "           5       0.97      0.99      0.98      1000\n",
            "           6       0.74      0.78      0.76      1000\n",
            "           7       0.98      0.94      0.96      1000\n",
            "           8       0.99      0.97      0.98      1000\n",
            "           9       0.96      0.97      0.96      1000\n",
            "\n",
            "    accuracy                           0.91     10000\n",
            "   macro avg       0.92      0.91      0.91     10000\n",
            "weighted avg       0.92      0.91      0.91     10000\n",
            "\n"
          ]
        }
      ]
    }
  ]
}
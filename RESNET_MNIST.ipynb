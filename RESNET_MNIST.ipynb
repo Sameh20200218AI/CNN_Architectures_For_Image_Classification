{
  "cells": [
    {
      "cell_type": "code",
      "execution_count": 36,
      "metadata": {
        "id": "kcYkCBdwLZjh"
      },
      "outputs": [],
      "source": [
        "import tensorflow as tf\n",
        "from tensorflow.keras import layers, models\n",
        "import numpy as np\n",
        "import pandas as pd\n",
        "import matplotlib.pyplot as plt\n",
        "from tensorflow import keras\n",
        "from keras.models import Sequential\n",
        "from keras.layers import Conv2D, MaxPooling2D, Flatten, Dense\n",
        "from sklearn.metrics import confusion_matrix,f1_score,recall_score,precision_score,classification_report\n",
        "import seaborn as sns\n",
        "from tensorflow.keras.utils import to_categorical"
      ]
    },
    {
      "cell_type": "code",
      "execution_count": 37,
      "metadata": {
        "id": "0_yhf5iTLdl7"
      },
      "outputs": [],
      "source": [
        "# Define the Residual Block\n",
        "def residual_block(x, filters, kernel_size=3, stride=1, activation='relu'):\n",
        "    # First convolutional layer in the residual block\n",
        "    y = layers.Conv2D(filters, kernel_size=kernel_size, strides=stride, padding='same')(x)\n",
        "    y = layers.BatchNormalization()(y)\n",
        "    y = layers.Activation(activation)(y)\n",
        "\n",
        "    # Second convolutional layer in the residual block\n",
        "    y = layers.Conv2D(filters, kernel_size=kernel_size, strides=stride, padding='same')(y)\n",
        "    y = layers.BatchNormalization()(y)\n",
        "\n",
        "    # Skip connection to add the input to the output\n",
        "    if stride != 1 or x.shape[-1] != filters:\n",
        "        x = layers.Conv2D(filters, kernel_size=1, strides=stride, padding='same')(x)\n",
        "    y = layers.Add()([x, y])\n",
        "\n",
        "    # Activation function after the addition\n",
        "    y = layers.Activation(activation)(y)\n",
        "\n",
        "    return y"
      ]
    },
    {
      "cell_type": "code",
      "execution_count": 38,
      "metadata": {
        "id": "lF-KTX2CLdih"
      },
      "outputs": [],
      "source": [
        "# Build the ResNet model\n",
        "def build_resnet(input_shape, num_classes):\n",
        "    inputs = tf.keras.Input(shape=input_shape)\n",
        "\n",
        "    # Initial convolutional layer with batch normalization and activation\n",
        "    x = layers.Conv2D(64, 7, strides=2, padding='same')(inputs)\n",
        "    x = layers.BatchNormalization()(x)\n",
        "    x = layers.Activation('relu')(x)\n",
        "\n",
        "    # Max pooling layer\n",
        "    x = layers.MaxPooling2D(3, strides=2, padding='same')(x)\n",
        "\n",
        "    # Three residual blocks\n",
        "    for _ in range(3):\n",
        "        x = residual_block(x, 64)\n",
        "\n",
        "    # Global average pooling layer\n",
        "    x = layers.GlobalAveragePooling2D()(x)\n",
        "\n",
        "    # Fully connected layer for classification\n",
        "    x = layers.Dense(num_classes, activation='softmax')(x)\n",
        "\n",
        "    # Build the model\n",
        "    model = models.Model(inputs, x)\n",
        "    return model"
      ]
    },
    {
      "cell_type": "code",
      "execution_count": 39,
      "metadata": {
        "id": "awJbpJj_LdaV"
      },
      "outputs": [],
      "source": [
        "# Define input shape and number of classes\n",
        "input_shape = (28, 28, 1)\n",
        "num_classes = 10\n",
        "\n",
        "# Build and compile the model\n",
        "model = build_resnet(input_shape, num_classes)\n",
        "model.compile(optimizer='adam', loss='sparse_categorical_crossentropy', metrics=['accuracy'])"
      ]
    },
    {
      "cell_type": "code",
      "execution_count": 40,
      "metadata": {
        "id": "B2Cwa0HrLdWv"
      },
      "outputs": [],
      "source": [
        "# Load and preprocess the MNIST dataset\n",
        "(x_train, y_train), (x_test, y_test) = tf.keras.datasets.mnist.load_data()\n",
        "x_train = x_train.reshape((-1, 28, 28, 1)).astype('float32') / 255.0\n",
        "x_test = x_test.reshape((-1, 28, 28, 1)).astype('float32') / 255.0"
      ]
    },
    {
      "cell_type": "code",
      "execution_count": 41,
      "metadata": {
        "colab": {
          "base_uri": "https://localhost:8080/",
          "height": 473
        },
        "id": "N85051LqNIph",
        "outputId": "bd7e39c0-0158-4ddd-fe3d-e42b60d2ab1a"
      },
      "outputs": [
        {
          "data": {
            "image/png": "[encoded data removed]",
            "text/plain": [
              "<Figure size 1000x500 with 10 Axes>"
            ]
          },
          "metadata": {},
          "output_type": "display_data"
        }
      ],
      "source": [
        "# Visualize sample images from the dataset\n",
        "fig, axes = plt.subplots(2, 5, figsize=(10, 5))\n",
        "axes = axes.ravel()\n",
        "for i in range(10):\n",
        "    axes[i].imshow(x_train[i].reshape(28, 28), cmap='gray')\n",
        "    axes[i].set_title(f\"Label: {np.argmax(y_train[i])}\")\n",
        "    axes[i].axis('off')\n",
        "plt.tight_layout()\n",
        "plt.show()"
      ]
    },
    {
      "cell_type": "code",
      "execution_count": 42,
      "metadata": {
        "colab": {
          "base_uri": "https://localhost:8080/"
        },
        "id": "36xUYrdUNThu",
        "outputId": "bb8294c5-91a5-4100-a0b0-f45953ca3543"
      },
      "outputs": [
        {
          "name": "stdout",
          "output_type": "stream",
          "text": [
            "Model: \"model_6\"\n",
            "__________________________________________________________________________________________________\n",
            " Layer (type)                Output Shape                 Param #   Connected to                  \n",
            "==================================================================================================\n",
            " input_7 (InputLayer)        [(None, 28, 28, 1)]          0         []                            \n",
            "                                                                                                  \n",
            " conv2d_42 (Conv2D)          (None, 14, 14, 64)           3200      ['input_7[0][0]']             \n",
            "                                                                                                  \n",
            " batch_normalization_42 (Ba  (None, 14, 14, 64)           256       ['conv2d_42[0][0]']           \n",
            " tchNormalization)                                                                                \n",
            "                                                                                                  \n",
            " activation_42 (Activation)  (None, 14, 14, 64)           0         ['batch_normalization_42[0][0]\n",
            "                                                                    ']                            \n",
            "                                                                                                  \n",
            " max_pooling2d_6 (MaxPoolin  (None, 7, 7, 64)             0         ['activation_42[0][0]']       \n",
            " g2D)                                                                                             \n",
            "                                                                                                  \n",
            " conv2d_43 (Conv2D)          (None, 7, 7, 64)             36928     ['max_pooling2d_6[0][0]']     \n",
            "                                                                                                  \n",
            " batch_normalization_43 (Ba  (None, 7, 7, 64)             256       ['conv2d_43[0][0]']           \n",
            " tchNormalization)                                                                                \n",
            "                                                                                                  \n",
            " activation_43 (Activation)  (None, 7, 7, 64)             0         ['batch_normalization_43[0][0]\n",
            "                                                                    ']                            \n",
            "                                                                                                  \n",
            " conv2d_44 (Conv2D)          (None, 7, 7, 64)             36928     ['activation_43[0][0]']       \n",
            "                                                                                                  \n",
            " batch_normalization_44 (Ba  (None, 7, 7, 64)             256       ['conv2d_44[0][0]']           \n",
            " tchNormalization)                                                                                \n",
            "                                                                                                  \n",
            " add_18 (Add)                (None, 7, 7, 64)             0         ['max_pooling2d_6[0][0]',     \n",
            "                                                                     'batch_normalization_44[0][0]\n",
            "                                                                    ']                            \n",
            "                                                                                                  \n",
            " activation_44 (Activation)  (None, 7, 7, 64)             0         ['add_18[0][0]']              \n",
            "                                                                                                  \n",
            " conv2d_45 (Conv2D)          (None, 7, 7, 64)             36928     ['activation_44[0][0]']       \n",
            "                                                                                                  \n",
            " batch_normalization_45 (Ba  (None, 7, 7, 64)             256       ['conv2d_45[0][0]']           \n",
            " tchNormalization)                                                                                \n",
            "                                                                                                  \n",
            " activation_45 (Activation)  (None, 7, 7, 64)             0         ['batch_normalization_45[0][0]\n",
            "                                                                    ']                            \n",
            "                                                                                                  \n",
            " conv2d_46 (Conv2D)          (None, 7, 7, 64)             36928     ['activation_45[0][0]']       \n",
            "                                                                                                  \n",
            " batch_normalization_46 (Ba  (None, 7, 7, 64)             256       ['conv2d_46[0][0]']           \n",
            " tchNormalization)                                                                                \n",
            "                                                                                                  \n",
            " add_19 (Add)                (None, 7, 7, 64)             0         ['activation_44[0][0]',       \n",
            "                                                                     'batch_normalization_46[0][0]\n",
            "                                                                    ']                            \n",
            "                                                                                                  \n",
            " activation_46 (Activation)  (None, 7, 7, 64)             0         ['add_19[0][0]']              \n",
            "                                                                                                  \n",
            " conv2d_47 (Conv2D)          (None, 7, 7, 64)             36928     ['activation_46[0][0]']       \n",
            "                                                                                                  \n",
            " batch_normalization_47 (Ba  (None, 7, 7, 64)             256       ['conv2d_47[0][0]']           \n",
            " tchNormalization)                                                                                \n",
            "                                                                                                  \n",
            " activation_47 (Activation)  (None, 7, 7, 64)             0         ['batch_normalization_47[0][0]\n",
            "                                                                    ']                            \n",
            "                                                                                                  \n",
            " conv2d_48 (Conv2D)          (None, 7, 7, 64)             36928     ['activation_47[0][0]']       \n",
            "                                                                                                  \n",
            " batch_normalization_48 (Ba  (None, 7, 7, 64)             256       ['conv2d_48[0][0]']           \n",
            " tchNormalization)                                                                                \n",
            "                                                                                                  \n",
            " add_20 (Add)                (None, 7, 7, 64)             0         ['activation_46[0][0]',       \n",
            "                                                                     'batch_normalization_48[0][0]\n",
            "                                                                    ']                            \n",
            "                                                                                                  \n",
            " activation_48 (Activation)  (None, 7, 7, 64)             0         ['add_20[0][0]']              \n",
            "                                                                                                  \n",
            " global_average_pooling2d_6  (None, 64)                   0         ['activation_48[0][0]']       \n",
            "  (GlobalAveragePooling2D)                                                                        \n",
            "                                                                                                  \n",
            " dense_6 (Dense)             (None, 10)                   650       ['global_average_pooling2d_6[0\n",
            "                                                                    ][0]']                        \n",
            "                                                                                                  \n",
            "==================================================================================================\n",
            "Total params: 227210 (887.54 KB)\n",
            "Trainable params: 226314 (884.04 KB)\n",
            "Non-trainable params: 896 (3.50 KB)\n",
            "__________________________________________________________________________________________________\n"
          ]
        }
      ],
      "source": [
        "model.summary() # print the archticture of model"
      ]
    },
    {
      "cell_type": "code",
      "execution_count": 43,
      "metadata": {
        "colab": {
          "base_uri": "https://localhost:8080/"
        },
        "id": "4RLpezCTN5_G",
        "outputId": "2e071a52-699d-4a34-eead-1c8ec77125b6"
      },
      "outputs": [
        {
          "name": "stdout",
          "output_type": "stream",
          "text": [
            "Epoch 1/3\n",
            "300/300 [==============================] - 90s 293ms/step - loss: 0.1747 - accuracy: 0.9507 - val_loss: 8.6445 - val_accuracy: 0.1135\n",
            "Epoch 2/3\n",
            "300/300 [==============================] - 88s 293ms/step - loss: 0.0451 - accuracy: 0.9865 - val_loss: 0.2109 - val_accuracy: 0.9370\n",
            "Epoch 3/3\n",
            "300/300 [==============================] - 86s 285ms/step - loss: 0.0330 - accuracy: 0.9900 - val_loss: 0.0990 - val_accuracy: 0.9700\n"
          ]
        },
        {
          "data": {
            "text/plain": [
              "<keras.src.callbacks.History at 0x7d814c3998d0>"
            ]
          },
          "execution_count": 43,
          "metadata": {},
          "output_type": "execute_result"
        }
      ],
      "source": [
        "# Train the model\n",
        "model.fit(x_train, y_train, epochs=3, batch_size=200, validation_data=(x_test, y_test))"
      ]
    },
    {
      "cell_type": "code",
      "execution_count": 44,
      "metadata": {
        "colab": {
          "base_uri": "https://localhost:8080/"
        },
        "id": "PUuLmxpjN7Qh",
        "outputId": "1b694cfe-281c-42c8-ee17-814a19d3e150"
      },
      "outputs": [
        {
          "name": "stdout",
          "output_type": "stream",
          "text": [
            "313/313 [==============================] - 6s 17ms/step\n"
          ]
        }
      ],
      "source": [
        "y_pred = model.predict(x_test)"
      ]
    },
    {
      "cell_type": "code",
      "execution_count": 45,
      "metadata": {
        "colab": {
          "base_uri": "https://localhost:8080/"
        },
        "id": "HQidSxXINTWz",
        "outputId": "5c416ccb-9bf4-4be1-aafb-1f1ba9a0d855"
      },
      "outputs": [
        {
          "name": "stdout",
          "output_type": "stream",
          "text": [
            "Layer input_7 : 0 trainable parameters\n",
            "----------------------------------------------\n",
            "Layer conv2d_42 : 3200 trainable parameters\n",
            "----------------------------------------------\n",
            "Layer batch_normalization_42 : 256 trainable parameters\n",
            "----------------------------------------------\n",
            "Layer activation_42 : 0 trainable parameters\n",
            "----------------------------------------------\n",
            "Layer max_pooling2d_6 : 0 trainable parameters\n",
            "----------------------------------------------\n",
            "Layer conv2d_43 : 36928 trainable parameters\n",
            "----------------------------------------------\n",
            "Layer batch_normalization_43 : 256 trainable parameters\n",
            "----------------------------------------------\n",
            "Layer activation_43 : 0 trainable parameters\n",
            "----------------------------------------------\n",
            "Layer conv2d_44 : 36928 trainable parameters\n",
            "----------------------------------------------\n",
            "Layer batch_normalization_44 : 256 trainable parameters\n",
            "----------------------------------------------\n",
            "Layer add_18 : 0 trainable parameters\n",
            "----------------------------------------------\n",
            "Layer activation_44 : 0 trainable parameters\n",
            "----------------------------------------------\n",
            "Layer conv2d_45 : 36928 trainable parameters\n",
            "----------------------------------------------\n",
            "Layer batch_normalization_45 : 256 trainable parameters\n",
            "----------------------------------------------\n",
            "Layer activation_45 : 0 trainable parameters\n",
            "----------------------------------------------\n",
            "Layer conv2d_46 : 36928 trainable parameters\n",
            "----------------------------------------------\n",
            "Layer batch_normalization_46 : 256 trainable parameters\n",
            "----------------------------------------------\n",
            "Layer add_19 : 0 trainable parameters\n",
            "----------------------------------------------\n",
            "Layer activation_46 : 0 trainable parameters\n",
            "----------------------------------------------\n",
            "Layer conv2d_47 : 36928 trainable parameters\n",
            "----------------------------------------------\n",
            "Layer batch_normalization_47 : 256 trainable parameters\n",
            "----------------------------------------------\n",
            "Layer activation_47 : 0 trainable parameters\n",
            "----------------------------------------------\n",
            "Layer conv2d_48 : 36928 trainable parameters\n",
            "----------------------------------------------\n",
            "Layer batch_normalization_48 : 256 trainable parameters\n",
            "----------------------------------------------\n",
            "Layer add_20 : 0 trainable parameters\n",
            "----------------------------------------------\n",
            "Layer activation_48 : 0 trainable parameters\n",
            "----------------------------------------------\n",
            "Layer global_average_pooling2d_6 : 0 trainable parameters\n",
            "----------------------------------------------\n",
            "Layer dense_6 : 650 trainable parameters\n",
            "----------------------------------------------\n"
          ]
        }
      ],
      "source": [
        "# print trainable parameters of model\n",
        "for i in model.layers:\n",
        "    print(f\"Layer {i.name} : {i.count_params()} trainable parameters\")\n",
        "    print('----------------------------------------------')"
      ]
    },
    {
      "cell_type": "code",
      "execution_count": 46,
      "metadata": {
        "colab": {
          "base_uri": "https://localhost:8080/"
        },
        "id": "5XwbXtVuNTTW",
        "outputId": "ca18b97b-e128-49ea-bf56-6cd5f0c0f6fa"
      },
      "outputs": [
        {
          "name": "stdout",
          "output_type": "stream",
          "text": [
            "313/313 [==============================] - 5s 15ms/step - loss: 0.0990 - accuracy: 0.9700\n",
            "Test Loss: 0.0990\n",
            "Test Accuracy: 0.9700\n"
          ]
        }
      ],
      "source": [
        "# Evaluate the model\n",
        "loss, accuracy = model.evaluate(x_test, y_test)\n",
        "print(f'Test Loss: {loss:.4f}')\n",
        "print(f'Test Accuracy: {accuracy:.4f}')"
      ]
    }
  ],
  "metadata": {
    "colab": {
      "provenance": []
    },
    "kernelspec": {
      "display_name": "Python 3",
      "name": "python3"
    },
    "language_info": {
      "name": "python"
    }
  },
  "nbformat": 4,
  "nbformat_minor": 0
}

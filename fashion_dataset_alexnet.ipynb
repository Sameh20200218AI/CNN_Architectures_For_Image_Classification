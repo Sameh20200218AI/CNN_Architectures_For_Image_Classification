{
  "nbformat": 4,
  "nbformat_minor": 0,
  "metadata": {
    "colab": {
      "provenance": [],
      "gpuType": "T4"
    },
    "kernelspec": {
      "name": "python3",
      "display_name": "Python 3"
    },
    "language_info": {
      "name": "python"
    },
    "accelerator": "GPU"
  },
  "cells": [
    {
      "cell_type": "code",
      "source": [
        "import tensorflow as tf\n",
        "from tensorflow.keras import layers, models\n",
        "import numpy as np\n",
        "import pandas as pd\n",
        "import matplotlib.pyplot as plt\n",
        "from tensorflow.keras.datasets import fashion_mnist  # Import Fashion MNIST dataset\n",
        "from tensorflow.keras.utils import to_categorical\n",
        "from sklearn.metrics import confusion_matrix, f1_score, recall_score, precision_score, classification_report\n",
        "import seaborn as sns\n",
        "from tensorflow.keras.models import Sequential\n",
        "from tensorflow.keras.layers import Conv2D, MaxPooling2D, Flatten, Dense, Dropout\n",
        "import numpy as np\n",
        "import matplotlib.pyplot as plt\n",
        "import tensorflow as tf\n",
        "from tensorflow.keras.utils import to_categorical, plot_model\n",
        "from tensorflow.keras.preprocessing import image\n",
        "from tensorflow.keras import models, layers\n",
        "from tensorflow.keras.applications import VGG16\n",
        "from sklearn.model_selection import train_test_split\n",
        "from keras.applications.vgg16 import preprocess_input\n",
        "from keras.preprocessing.image import img_to_array, array_to_img\n",
        "from keras.datasets import mnist\n",
        "from tensorflow.keras.applications import ResNet50"
      ],
      "metadata": {
        "id": "RYfnhDxbTr9r"
      },
      "execution_count": 1,
      "outputs": []
    },
    {
      "cell_type": "code",
      "source": [
        "# Load Fashion MNIST dataset\n",
        "(x_train, y_train), (x_test, y_test) = fashion_mnist.load_data()\n",
        "\n"
      ],
      "metadata": {
        "id": "BMPgslwwTr6C",
        "colab": {
          "base_uri": "https://localhost:8080/"
        },
        "outputId": "0d2d313e-0579-4c89-eb3d-61e6cd7cc2ba"
      },
      "execution_count": 2,
      "outputs": [
        {
          "output_type": "stream",
          "name": "stdout",
          "text": [
            "Downloading data from https://storage.googleapis.com/tensorflow/tf-keras-datasets/train-labels-idx1-ubyte.gz\n",
            "29515/29515 [==============================] - 0s 0us/step\n",
            "Downloading data from https://storage.googleapis.com/tensorflow/tf-keras-datasets/train-images-idx3-ubyte.gz\n",
            "26421880/26421880 [==============================] - 0s 0us/step\n",
            "Downloading data from https://storage.googleapis.com/tensorflow/tf-keras-datasets/t10k-labels-idx1-ubyte.gz\n",
            "5148/5148 [==============================] - 0s 0us/step\n",
            "Downloading data from https://storage.googleapis.com/tensorflow/tf-keras-datasets/t10k-images-idx3-ubyte.gz\n",
            "4422102/4422102 [==============================] - 0s 0us/step\n"
          ]
        }
      ]
    },
    {
      "cell_type": "code",
      "source": [
        "\n",
        "# Visualize sample images from the dataset\n",
        "fig, axes = plt.subplots(2, 5, figsize=(10, 5))\n",
        "axes = axes.ravel()\n",
        "for i in range(10):\n",
        "    axes[i].imshow(x_train[i], cmap='gray')\n",
        "    axes[i].set_title(f\"Label: {y_train[i]}\")\n",
        "    axes[i].axis('off')\n",
        "plt.tight_layout()\n",
        "plt.show()"
      ],
      "metadata": {
        "colab": {
          "base_uri": "https://localhost:8080/",
          "height": 473
        },
        "id": "36asoOmITr35",
        "outputId": "7f8f4d8e-a7a3-4898-c228-0d72ec62d0cf"
      },
      "execution_count": 3,
      "outputs": [
        {
          "output_type": "display_data",
          "data": {
            "text/plain": [
              "<Figure size 1000x500 with 10 Axes>"
            ],
            "image/png": "[encoded data removed]"
          },
          "metadata": {}
        }
      ]
    },
    {
      "cell_type": "code",
      "source": [
        "# Convert the images into 3 channels as MNIST images are Black and White so have 1 channel\n",
        "\n",
        "x_train=np.dstack([x_train] * 3)\n",
        "x_test=np.dstack([x_test]*3)\n",
        "x_train.shape,x_test.shape"
      ],
      "metadata": {
        "colab": {
          "base_uri": "https://localhost:8080/"
        },
        "id": "KeiihTrD-1ez",
        "outputId": "fd0af842-71c8-42e9-ab51-e99d4dd1cfce"
      },
      "execution_count": 4,
      "outputs": [
        {
          "output_type": "execute_result",
          "data": {
            "text/plain": [
              "((60000, 28, 84), (10000, 28, 84))"
            ]
          },
          "metadata": {},
          "execution_count": 4
        }
      ]
    },
    {
      "cell_type": "code",
      "source": [
        "# Reshape images as per the tensor format required by tensorflow\n",
        "\n",
        "x_train = x_train.reshape(-1, 28,28,3)\n",
        "x_test= x_test.reshape (-1,28,28,3)\n",
        "x_train.shape,x_test.shape"
      ],
      "metadata": {
        "colab": {
          "base_uri": "https://localhost:8080/"
        },
        "id": "zCUV_lhE_t4D",
        "outputId": "73ab8d33-d82f-4ca4-f5e9-f1825726c27c"
      },
      "execution_count": 5,
      "outputs": [
        {
          "output_type": "execute_result",
          "data": {
            "text/plain": [
              "((60000, 28, 28, 3), (10000, 28, 28, 3))"
            ]
          },
          "metadata": {},
          "execution_count": 5
        }
      ]
    },
    {
      "cell_type": "code",
      "source": [
        "model_alex=models.Sequential([\n",
        "    layers.Conv2D(filters=128, kernel_size=(11,11), strides=(4,4), activation='relu', input_shape=(64,64,3)),\n",
        "    layers.BatchNormalization(),\n",
        "    layers.MaxPool2D(pool_size=(2,2)),\n",
        "    layers.Conv2D(filters=256, kernel_size=(5,5), strides=(1,1), activation='relu', padding=\"same\"),\n",
        "    layers.BatchNormalization(),\n",
        "    layers.MaxPool2D(pool_size=(3,3)),\n",
        "    layers.Conv2D(filters=256, kernel_size=(3,3), strides=(1,1), activation='relu', padding=\"same\"),\n",
        "    layers.BatchNormalization(),\n",
        "    layers.Conv2D(filters=256, kernel_size=(1,1), strides=(1,1), activation='relu', padding=\"same\"),\n",
        "    layers.BatchNormalization(),\n",
        "    layers.Conv2D(filters=256, kernel_size=(1,1), strides=(1,1), activation='relu', padding=\"same\"),\n",
        "    layers.BatchNormalization(),\n",
        "    layers.MaxPool2D(pool_size=(2,2)),\n",
        "    layers.Flatten(),\n",
        "    layers.Dense(1024,activation='relu'),\n",
        "    layers.Dropout(0.5),\n",
        "    layers.Dense(1024,activation='relu'),\n",
        "    layers.Dropout(0.5),\n",
        "    layers.Dense(10,activation='softmax')\n",
        "\n",
        "\n",
        "])"
      ],
      "metadata": {
        "id": "zgn4_xyN__yb"
      },
      "execution_count": 6,
      "outputs": []
    },
    {
      "cell_type": "code",
      "source": [
        "model_alex.compile(\n",
        "    loss='sparse_categorical_crossentropy',\n",
        "    optimizer=tf.optimizers.SGD(lr=0.001),\n",
        "    metrics=['accuracy']\n",
        ")\n",
        "model_alex.summary()"
      ],
      "metadata": {
        "colab": {
          "base_uri": "https://localhost:8080/"
        },
        "id": "uDDyymDkAFNE",
        "outputId": "5c0d1bfd-ee00-487e-add0-532686fbda3b"
      },
      "execution_count": 7,
      "outputs": [
        {
          "output_type": "stream",
          "name": "stderr",
          "text": [
            "WARNING:absl:`lr` is deprecated in Keras optimizer, please use `learning_rate` or use the legacy optimizer, e.g.,tf.keras.optimizers.legacy.SGD.\n"
          ]
        },
        {
          "output_type": "stream",
          "name": "stdout",
          "text": [
            "Model: \"sequential\"\n",
            "_________________________________________________________________\n",
            " Layer (type)                Output Shape              Param #   \n",
            "=================================================================\n",
            " conv2d (Conv2D)             (None, 14, 14, 128)       46592     \n",
            "                                                                 \n",
            " batch_normalization (Batch  (None, 14, 14, 128)       512       \n",
            " Normalization)                                                  \n",
            "                                                                 \n",
            " max_pooling2d (MaxPooling2  (None, 7, 7, 128)         0         \n",
            " D)                                                              \n",
            "                                                                 \n",
            " conv2d_1 (Conv2D)           (None, 7, 7, 256)         819456    \n",
            "                                                                 \n",
            " batch_normalization_1 (Bat  (None, 7, 7, 256)         1024      \n",
            " chNormalization)                                                \n",
            "                                                                 \n",
            " max_pooling2d_1 (MaxPoolin  (None, 2, 2, 256)         0         \n",
            " g2D)                                                            \n",
            "                                                                 \n",
            " conv2d_2 (Conv2D)           (None, 2, 2, 256)         590080    \n",
            "                                                                 \n",
            " batch_normalization_2 (Bat  (None, 2, 2, 256)         1024      \n",
            " chNormalization)                                                \n",
            "                                                                 \n",
            " conv2d_3 (Conv2D)           (None, 2, 2, 256)         65792     \n",
            "                                                                 \n",
            " batch_normalization_3 (Bat  (None, 2, 2, 256)         1024      \n",
            " chNormalization)                                                \n",
            "                                                                 \n",
            " conv2d_4 (Conv2D)           (None, 2, 2, 256)         65792     \n",
            "                                                                 \n",
            " batch_normalization_4 (Bat  (None, 2, 2, 256)         1024      \n",
            " chNormalization)                                                \n",
            "                                                                 \n",
            " max_pooling2d_2 (MaxPoolin  (None, 1, 1, 256)         0         \n",
            " g2D)                                                            \n",
            "                                                                 \n",
            " flatten (Flatten)           (None, 256)               0         \n",
            "                                                                 \n",
            " dense (Dense)               (None, 1024)              263168    \n",
            "                                                                 \n",
            " dropout (Dropout)           (None, 1024)              0         \n",
            "                                                                 \n",
            " dense_1 (Dense)             (None, 1024)              1049600   \n",
            "                                                                 \n",
            " dropout_1 (Dropout)         (None, 1024)              0         \n",
            "                                                                 \n",
            " dense_2 (Dense)             (None, 10)                10250     \n",
            "                                                                 \n",
            "=================================================================\n",
            "Total params: 2915338 (11.12 MB)\n",
            "Trainable params: 2913034 (11.11 MB)\n",
            "Non-trainable params: 2304 (9.00 KB)\n",
            "_________________________________________________________________\n"
          ]
        }
      ]
    },
    {
      "cell_type": "code",
      "source": [
        "def process_image(image,label):\n",
        "    image=tf.image.per_image_standardization(image)\n",
        "    image=tf.image.resize(image,(64,64))\n",
        "\n",
        "    return image,label"
      ],
      "metadata": {
        "id": "NL5bwXuRAKgD"
      },
      "execution_count": 8,
      "outputs": []
    },
    {
      "cell_type": "code",
      "source": [
        "train_ds=tf.data.Dataset.from_tensor_slices((x_train,y_train))\n",
        "test_ds=tf.data.Dataset.from_tensor_slices((x_test,y_test))\n",
        "train_ds_size=tf.data.experimental.cardinality(train_ds).numpy()\n",
        "test_ds_size=tf.data.experimental.cardinality(test_ds).numpy()\n",
        "print('Train size:',train_ds_size)\n",
        "print('Test size:',test_ds_size)\n",
        "train_ds=(train_ds\n",
        "          .map(process_image)\n",
        "          .shuffle(buffer_size=train_ds_size)\n",
        "          .batch(batch_size=32,drop_remainder=True)\n",
        "         )\n",
        "test_ds=(test_ds\n",
        "          .map(process_image)\n",
        "          .shuffle(buffer_size=test_ds_size)\n",
        "          .batch(batch_size=32,drop_remainder=True)\n",
        "         )"
      ],
      "metadata": {
        "colab": {
          "base_uri": "https://localhost:8080/"
        },
        "id": "rsFf9L4cANsN",
        "outputId": "884e5073-10db-43a0-c07d-9ba2f26b9a3b"
      },
      "execution_count": 9,
      "outputs": [
        {
          "output_type": "stream",
          "name": "stdout",
          "text": [
            "Train size: 60000\n",
            "Test size: 10000\n"
          ]
        }
      ]
    },
    {
      "cell_type": "code",
      "source": [
        "model_alex.fit(\n",
        "    train_ds,\n",
        "    epochs=4,\n",
        "    validation_data=test_ds,\n",
        "    validation_freq=1\n",
        ")"
      ],
      "metadata": {
        "colab": {
          "base_uri": "https://localhost:8080/"
        },
        "id": "bXWqBWr7Acvr",
        "outputId": "04b4dd79-e91a-4e75-92d5-24bbe0b56373"
      },
      "execution_count": 10,
      "outputs": [
        {
          "output_type": "stream",
          "name": "stdout",
          "text": [
            "Epoch 1/4\n",
            "1875/1875 [==============================] - 43s 9ms/step - loss: 0.5848 - accuracy: 0.7944 - val_loss: 0.4279 - val_accuracy: 0.8410\n",
            "Epoch 2/4\n",
            "1875/1875 [==============================] - 23s 9ms/step - loss: 0.3900 - accuracy: 0.8598 - val_loss: 0.3735 - val_accuracy: 0.8617\n",
            "Epoch 3/4\n",
            "1875/1875 [==============================] - 23s 9ms/step - loss: 0.3397 - accuracy: 0.8773 - val_loss: 0.3589 - val_accuracy: 0.8658\n",
            "Epoch 4/4\n",
            "1875/1875 [==============================] - 21s 9ms/step - loss: 0.3051 - accuracy: 0.8899 - val_loss: 0.3316 - val_accuracy: 0.8786\n"
          ]
        },
        {
          "output_type": "execute_result",
          "data": {
            "text/plain": [
              "<keras.src.callbacks.History at 0x7c40975cb5e0>"
            ]
          },
          "metadata": {},
          "execution_count": 10
        }
      ]
    }
  ]
}